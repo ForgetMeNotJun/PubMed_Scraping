{
 "metadata": {
  "language_info": {
   "codemirror_mode": {
    "name": "ipython",
    "version": 3
   },
   "file_extension": ".py",
   "mimetype": "text/x-python",
   "name": "python",
   "nbconvert_exporter": "python",
   "pygments_lexer": "ipython3",
   "version": "3.8.8"
  },
  "orig_nbformat": 4,
  "kernelspec": {
   "name": "python3",
   "display_name": "Python 3.8.8 64-bit ('base': conda)"
  },
  "interpreter": {
   "hash": "6f992ab40698a4eb4c1b34c485c58d89903e0de0bc337334e4d537e379ad0de3"
  }
 },
 "nbformat": 4,
 "nbformat_minor": 2,
 "cells": [
  {
   "cell_type": "code",
   "execution_count": 1,
   "metadata": {},
   "outputs": [],
   "source": [
    "import numpy as np\n",
    "import pandas as pd\n",
    "import time\n",
    "from selenium import webdriver\n",
    "import chromedriver_binary\n",
    "from selenium.webdriver.chrome.options import Options\n",
    "from googletrans import Translator"
   ]
  },
  {
   "cell_type": "code",
   "execution_count": 2,
   "metadata": {},
   "outputs": [],
   "source": [
    "#datapath\n",
    "data_path = '../data/'\n",
    "result_path = '../result/'"
   ]
  },
  {
   "cell_type": "code",
   "execution_count": 3,
   "metadata": {},
   "outputs": [],
   "source": [
    "def pubmed_scraping(keyword, page_num):\n",
    "    #setting\n",
    "    options = Options()\n",
    "    options.add_argument('--headless') #ヘッドレスモード\n",
    "    driver = webdriver.Chrome() \n",
    "\n",
    "    #list作成\n",
    "    title_list = []\n",
    "    author_list = []\n",
    "    citation_list = []\n",
    "    pmid_list = []\n",
    "    abstract_list = []\n",
    "    doi_list = []\n",
    "    japansese_title_list = []\n",
    "    japansese_abstract_list = []\n",
    "\n",
    "    #title, authors, pmidの取得\n",
    "    for i in range(page_num):\n",
    "        driver.get(f'https://pubmed.ncbi.nlm.nih.gov/?term={keyword}&page={i+1}')\n",
    "        titles = driver.find_elements_by_class_name('docsum-title')\n",
    "        authors = driver.find_elements_by_class_name('docsum-authors.full-authors')\n",
    "        citatons = driver.find_elements_by_class_name('docsum-journal-citation.full-journal-citation')\n",
    "        pmids = driver.find_elements_by_class_name('docsum-pmid')\n",
    "\n",
    "        for title in titles:\n",
    "            title_list.append(title.text) \n",
    "        for pmid in pmids:\n",
    "            pmid = pmid.text\n",
    "            pmid = int(pmid)\n",
    "            pmid_list.append(pmid) \n",
    "        for author in authors:\n",
    "            author_list.append(author.text) \n",
    "        for citaion in citatons:\n",
    "            citation_list.append(citaion.text) \n",
    "        time.sleep(1)\n",
    "\n",
    "    #abstract, pmidの取得\n",
    "    driver = webdriver.Chrome()\n",
    "\n",
    "    for pmid in pmid_list:\n",
    "        driver.get('https://pubmed.ncbi.nlm.nih.gov/') \n",
    "        driver.find_element_by_id('id_term').send_keys(pmid)\n",
    "        driver.find_element_by_class_name('search-btn').click() \n",
    "        \n",
    "        ##abstract\n",
    "        try:\n",
    "            abstract = driver.find_element_by_xpath('//*[@id=\"enc-abstract\"]/p').text\n",
    "            abstract_list.append(abstract)\n",
    "        except :\n",
    "            abstract_list.append('NaN')\n",
    "        \n",
    "        #doi\n",
    "        try:\n",
    "            doi = driver.find_element_by_xpath('//*[@id=\"full-view-heading\"]/div[1]/span[1]').text\n",
    "            doi_list.append(doi)\n",
    "        except :\n",
    "            doi_list.append('NaN')\n",
    "            \n",
    "        time.sleep(1)\n",
    "    driver.close()\n",
    "\n",
    "    #title, abstractの翻訳\n",
    "    tr = Translator()\n",
    "    tr.raise_Exception = True\n",
    "    japansese_title_list = []\n",
    "    japansese_abstract_list = []\n",
    "\n",
    "    for title in title_list:\n",
    "        japanese_title = tr.translate(text=title, src=\"en\", dest=\"ja\").text\n",
    "        japansese_title_list.append(japanese_title)\n",
    "\n",
    "    for abstract in abstract_list:\n",
    "        japanese_abstract = tr.translate(text=abstract, src=\"en\", dest=\"ja\").text\n",
    "        japansese_abstract_list.append(japanese_abstract)\n",
    "\n",
    "\n",
    "    #df作成\n",
    "    df = pd.DataFrame(zip(\n",
    "        title_list,\n",
    "        author_list,\n",
    "        citation_list,\n",
    "        pmid_list, \n",
    "        abstract_list, \n",
    "        doi_list, \n",
    "        japansese_title_list,\n",
    "        japansese_abstract_list\n",
    "    ), \n",
    "    columns =[\n",
    "        'Title',\n",
    "        'Authors',\n",
    "        'Citation',\n",
    "        'pmid',\n",
    "        'Abstract',\n",
    "        'Doi',\n",
    "        'Japanese_Title',\n",
    "        'Japanese_Abstract'\n",
    "    ])\n",
    "    df.index = np.arange(1, len(df)+1) #indexを1から振り直す\n",
    "\n",
    "    #export(csv, excel)\n",
    "    df.to_excel(result_path + f'{keyword}_papers_information.xlsx', index=False)\n",
    "    df.to_csv(result_path + f'{keyword}_papers_information.csv', index=False)"
   ]
  },
  {
   "source": [
    "#キーワードリスト\n",
    "df_keyword = pd.read_csv(data_path + 'keyword_list.csv')\n",
    "keyword_list = list(df_keyword['keyword'])"
   ],
   "cell_type": "markdown",
   "metadata": {}
  },
  {
   "source": [
    "page_num = 10 #*10論文だけ抽出される\n",
    "for keyword in keyword_list:\n",
    "    pubmed_scraping(keyword, page_num)"
   ],
   "cell_type": "markdown",
   "metadata": {}
  },
  {
   "cell_type": "code",
   "execution_count": 4,
   "metadata": {},
   "outputs": [],
   "source": [
    "page_num = 10 #*10論文だけ抽出される\n",
    "keyword = 'qsofa+screening'\n",
    "pubmed_scraping(keyword, page_num)"
   ]
  }
 ]
}